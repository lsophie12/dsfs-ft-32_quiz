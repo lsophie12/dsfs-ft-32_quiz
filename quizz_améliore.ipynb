{
 "cells": [
  {
   "cell_type": "code",
   "execution_count": 8,
   "metadata": {},
   "outputs": [
    {
     "name": "stdout",
     "output_type": "stream",
     "text": [
      "Voici notre quiz, tu as trois chances !\n",
      "\n",
      "Combien de fois la France a gagné la coupe du monde ? \n",
      "Bravo ! 2 est la bonne réponse.\n",
      "\n",
      "Quand a été fondé Apple ? \n",
      "Dommage ! 1 n'est pas la bonne réponse. Il te reste 2 chances.\n",
      "Dommage ! 1 n'est pas la bonne réponse. Il te reste 1 chances.\n",
      "Bravo ! 1976 est la bonne réponse.\n",
      "\n",
      "Qui a fondé SpaceX ? \n",
      "Dommage ! 1976 n'est pas la bonne réponse. Il te reste 0 chances.\n",
      "Oh non ! Tu as perdu le jeu...\n"
     ]
    }
   ],
   "source": [
    "def questions(question, bonne_reponse, nb_de_chances):\n",
    "    print(question)\n",
    "    reponse = input(question)\n",
    "    while reponse != bonne_reponse:\n",
    "        nb_de_chances -= 1\n",
    "        print(f\"Dommage ! {reponse} n'est pas la bonne réponse. Il te reste {nb_de_chances} chances.\")\n",
    "        if nb_de_chances == 0:\n",
    "            print(\"Oh non ! Tu as perdu le jeu...\")\n",
    "            return nb_de_chances\n",
    "        reponse = input(question)\n",
    "    print(f\"Bravo ! {reponse} est la bonne réponse.\\n\")\n",
    "    return nb_de_chances\n",
    "\n",
    "\n",
    "nb_de_chances = 3\n",
    "\n",
    "print(\"Voici notre quiz, tu as trois chances !\\n\")\n",
    "\n",
    "liste_question_reponse = [(\"Combien de fois la France a gagné la coupe du monde ? \", \"2\"),\n",
    "                          (\"Quand a été fondé Apple ? \", \"1976\"),\n",
    "                          (\"Qui a fondé SpaceX ? \", \"elon musk\")]\n",
    "\n",
    "for question, bonne_reponse in liste_question_reponse:\n",
    "    nb_de_chances = questions(question, bonne_reponse, nb_de_chances)\n",
    "    if nb_de_chances == 0:\n",
    "        break\n",
    "\n",
    "if nb_de_chances > 0:\n",
    "    print(\"Bravo ! Tu as gagné le quiz !\")"
   ]
  }
 ],
 "metadata": {
  "kernelspec": {
   "display_name": "Python 3",
   "language": "python",
   "name": "python3"
  },
  "language_info": {
   "codemirror_mode": {
    "name": "ipython",
    "version": 3
   },
   "file_extension": ".py",
   "mimetype": "text/x-python",
   "name": "python",
   "nbconvert_exporter": "python",
   "pygments_lexer": "ipython3",
   "version": "3.12.6"
  }
 },
 "nbformat": 4,
 "nbformat_minor": 2
}
