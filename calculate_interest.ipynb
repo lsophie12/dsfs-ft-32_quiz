{
 "cells": [
  {
   "cell_type": "code",
   "execution_count": 9,
   "metadata": {},
   "outputs": [],
   "source": [
    "def economie(amount, nb_years, rate):\n",
    "    for year in range(nb_years):\n",
    "        amount += amount*rate/100\n",
    "        amount = round(amount,2)\n",
    "    return amount"
   ]
  },
  {
   "cell_type": "code",
   "execution_count": 10,
   "metadata": {},
   "outputs": [],
   "source": [
    "amount = input(\"Quel montant souhaitez- vous placez ? \")\n",
    "try:\n",
    "    amount = int(amount)\n",
    "    if amount <= 0:\n",
    "        raise ValueError()\n",
    "except ValueError:\n",
    "    print('Veillez saisir un nombre')\n",
    "\n",
    "nb_years = input(\"Pendant combien d'années souhaitez vous investir ? \")\n",
    "try:\n",
    "    nb_years = int(nb_years)\n",
    "    if nb_years <= 0:\n",
    "        raise ValueError()\n",
    "except ValueError:\n",
    "    print('Veillez saisir un nombre')\n",
    "\n",
    "rate = input(\"Quel taux d'intérêt ? \")\n",
    "if \"%\" in rate:\n",
    "    print('Veuillez saisir un taux sans écrire %')\n",
    "    rate = input(\"Quel taux d'intérêt ? \")\n",
    "try:\n",
    "    rate = float(rate)\n",
    "    if rate <= 0:\n",
    "        raise ValueError()\n",
    "except ValueError:\n",
    "    print('Veillez saisir un nombre')\n"
   ]
  },
  {
   "cell_type": "code",
   "execution_count": 12,
   "metadata": {},
   "outputs": [
    {
     "name": "stdout",
     "output_type": "stream",
     "text": [
      "The total amount of money you will have after your deposite 1000.00 at the end of 10 years will be 1010.04 €\n"
     ]
    }
   ],
   "source": [
    "eco = economie(amount, nb_years, rate)\n",
    "print(f\"The total amount of money you will have after your deposite {amount:.2f} at the end of {nb_years} years will be {eco:.2f} €\")"
   ]
  },
  {
   "cell_type": "code",
   "execution_count": 13,
   "metadata": {},
   "outputs": [],
   "source": [
    "def savings():\n",
    "    try:\n",
    "        initial_amount = float(input(\"Give us the total amount you wish to invest : \\n\"))\n",
    "        print(initial_amount)\n",
    "        duration = float(input(\"How many years are you going to invest that money ? \\n\"))\n",
    "        print(duration)\n",
    "        interest_rate = float(input(\"At what rate would you like to see interest ?\\n \\\n",
    "              WARNING: You will have to put a decimal value \\n Ex: 10% --> 0.10 \\n\"))\n",
    "        print(interest_rate)\n",
    "    except ValueError:\n",
    "        # We enter this except only if the user types something other than numbers.\n",
    "        raise ValueError(\"Please enter only numbers !\") # makes it possible to explain the error\n",
    "    else:\n",
    "        # We enter this else if the user has typed numbers correctly.\n",
    "        # We're going to run successive tests to create the other errors\n",
    "        \n",
    "        if (initial_amount < 0) or (duration < 0) or (interest_rate < 0):\n",
    "            raise ValueError(\"You have entered one or more negative values. \\n \\\n",
    "            Please type only positive values !\")\n",
    "        \n",
    "        if interest_rate > 1:\n",
    "            raise ValueError(\"You have entered an interest rate greater than 1%. \\n \\\n",
    "            Please enter an interest rate as a decimal value !\")\n",
    "        \n",
    "        # The following code will be executed if no errors occurred upstream\n",
    "        total = initial_amount*(1+interest_rate)**(duration)\n",
    "        print(\"The total amount of money you will have after you deposit {:.2f} at the end of {} years will be {:.2f} €\"\n",
    "              .format(initial_amount, duration, total))"
   ]
  },
  {
   "cell_type": "code",
   "execution_count": 14,
   "metadata": {},
   "outputs": [
    {
     "name": "stdout",
     "output_type": "stream",
     "text": [
      "1000.0\n",
      "10.0\n",
      "0.1\n",
      "The total amount of money you will have after you deposit 1000.00 at the end of 10.0 years will be 2593.74 €\n"
     ]
    }
   ],
   "source": [
    "savings()"
   ]
  }
 ],
 "metadata": {
  "kernelspec": {
   "display_name": "Python 3",
   "language": "python",
   "name": "python3"
  },
  "language_info": {
   "codemirror_mode": {
    "name": "ipython",
    "version": 3
   },
   "file_extension": ".py",
   "mimetype": "text/x-python",
   "name": "python",
   "nbconvert_exporter": "python",
   "pygments_lexer": "ipython3",
   "version": "3.12.6"
  }
 },
 "nbformat": 4,
 "nbformat_minor": 2
}
